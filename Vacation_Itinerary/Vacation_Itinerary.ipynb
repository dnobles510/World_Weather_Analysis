{
 "cells": [
  {
   "cell_type": "markdown",
   "metadata": {},
   "source": [
    "# Deliverable 3. Create a Travel Itinerary Map.\n",
    "----\n",
    "1. Import the vacation CSV file. \n",
    "2. From the map above with pick 4 cities that are in close proximity (on the same continent) that the customer would travel to and create a directions layer map.\n",
    "3. For the \"travel_mode\" use either \"DRIVING\", \"BICYCLING\", or \"WALKING\".\n",
    "4. Take a screenshot of the route and save it. \n",
    "5. Then create a marker layer for the four cities. Each city will should have a pop-up marker that contains\n",
    "    - The hotel name\n",
    "    - The city\n",
    "    - The country\n",
    "    - The current weather description and the maximum temperature\n",
    "---"
   ]
  },
  {
   "cell_type": "markdown",
   "metadata": {},
   "source": [
    "## Make sure the initial dependencies and the Google API key are imported."
   ]
  },
  {
   "cell_type": "code",
   "execution_count": 1,
   "metadata": {},
   "outputs": [],
   "source": [
    "# Dependencies and Setup\n",
    "import pandas as pd\n",
    "import requests\n",
    "import gmaps\n",
    "\n",
    "# Import API key\n",
    "from config import g_key"
   ]
  },
  {
   "cell_type": "code",
   "execution_count": 2,
   "metadata": {},
   "outputs": [],
   "source": [
    "# Configure gmaps\n",
    "gmaps.configure(api_key=g_key)"
   ]
  },
  {
   "cell_type": "markdown",
   "metadata": {},
   "source": [
    "## From your `Vacation_Search` folder from Deliverable 2, import the `WeatherPy_vacation.csv` file as a DataFrame named `vacation_df`"
   ]
  },
  {
   "cell_type": "code",
   "execution_count": 3,
   "metadata": {},
   "outputs": [
    {
     "data": {
      "text/html": [
       "<div>\n",
       "<style scoped>\n",
       "    .dataframe tbody tr th:only-of-type {\n",
       "        vertical-align: middle;\n",
       "    }\n",
       "\n",
       "    .dataframe tbody tr th {\n",
       "        vertical-align: top;\n",
       "    }\n",
       "\n",
       "    .dataframe thead th {\n",
       "        text-align: right;\n",
       "    }\n",
       "</style>\n",
       "<table border=\"1\" class=\"dataframe\">\n",
       "  <thead>\n",
       "    <tr style=\"text-align: right;\">\n",
       "      <th></th>\n",
       "      <th>hotel_data</th>\n",
       "      <th>City</th>\n",
       "      <th>Country</th>\n",
       "      <th>Max Temp</th>\n",
       "      <th>Weather Description</th>\n",
       "      <th>Lat</th>\n",
       "      <th>Lng</th>\n",
       "      <th>Hotel Name</th>\n",
       "    </tr>\n",
       "  </thead>\n",
       "  <tbody>\n",
       "    <tr>\n",
       "      <th>0</th>\n",
       "      <td>0</td>\n",
       "      <td>Duki</td>\n",
       "      <td>PK</td>\n",
       "      <td>78.78</td>\n",
       "      <td>scattered clouds</td>\n",
       "      <td>30.1541</td>\n",
       "      <td>68.5728</td>\n",
       "      <td>ماسٹر رشید مرحوم</td>\n",
       "    </tr>\n",
       "    <tr>\n",
       "      <th>1</th>\n",
       "      <td>4</td>\n",
       "      <td>Sola</td>\n",
       "      <td>VU</td>\n",
       "      <td>83.07</td>\n",
       "      <td>broken clouds</td>\n",
       "      <td>-13.8833</td>\n",
       "      <td>167.5500</td>\n",
       "      <td>Leumerus Bungalows</td>\n",
       "    </tr>\n",
       "    <tr>\n",
       "      <th>2</th>\n",
       "      <td>13</td>\n",
       "      <td>Carnarvon</td>\n",
       "      <td>AU</td>\n",
       "      <td>74.32</td>\n",
       "      <td>clear sky</td>\n",
       "      <td>-24.8667</td>\n",
       "      <td>113.6333</td>\n",
       "      <td>Hospitality Carnarvon</td>\n",
       "    </tr>\n",
       "    <tr>\n",
       "      <th>3</th>\n",
       "      <td>14</td>\n",
       "      <td>Faanui</td>\n",
       "      <td>PF</td>\n",
       "      <td>77.38</td>\n",
       "      <td>light rain</td>\n",
       "      <td>-16.4833</td>\n",
       "      <td>-151.7500</td>\n",
       "      <td>Bora-Bora Pearl Beach Resort &amp; Spa</td>\n",
       "    </tr>\n",
       "    <tr>\n",
       "      <th>4</th>\n",
       "      <td>15</td>\n",
       "      <td>Atar</td>\n",
       "      <td>MR</td>\n",
       "      <td>83.10</td>\n",
       "      <td>scattered clouds</td>\n",
       "      <td>20.5169</td>\n",
       "      <td>-13.0499</td>\n",
       "      <td>Oumou Elghoura</td>\n",
       "    </tr>\n",
       "    <tr>\n",
       "      <th>...</th>\n",
       "      <td>...</td>\n",
       "      <td>...</td>\n",
       "      <td>...</td>\n",
       "      <td>...</td>\n",
       "      <td>...</td>\n",
       "      <td>...</td>\n",
       "      <td>...</td>\n",
       "      <td>...</td>\n",
       "    </tr>\n",
       "    <tr>\n",
       "      <th>277</th>\n",
       "      <td>672</td>\n",
       "      <td>Parkes</td>\n",
       "      <td>AU</td>\n",
       "      <td>71.35</td>\n",
       "      <td>light rain</td>\n",
       "      <td>-33.1333</td>\n",
       "      <td>148.1833</td>\n",
       "      <td>Station Motel</td>\n",
       "    </tr>\n",
       "    <tr>\n",
       "      <th>278</th>\n",
       "      <td>675</td>\n",
       "      <td>Ondjiva</td>\n",
       "      <td>AO</td>\n",
       "      <td>80.60</td>\n",
       "      <td>scattered clouds</td>\n",
       "      <td>-17.0667</td>\n",
       "      <td>15.7333</td>\n",
       "      <td>COMBUESA</td>\n",
       "    </tr>\n",
       "    <tr>\n",
       "      <th>279</th>\n",
       "      <td>676</td>\n",
       "      <td>Coahuayana</td>\n",
       "      <td>MX</td>\n",
       "      <td>75.65</td>\n",
       "      <td>overcast clouds</td>\n",
       "      <td>18.7333</td>\n",
       "      <td>-103.6833</td>\n",
       "      <td>El rranchito michuacan de ocampos</td>\n",
       "    </tr>\n",
       "    <tr>\n",
       "      <th>280</th>\n",
       "      <td>677</td>\n",
       "      <td>Kashan</td>\n",
       "      <td>IR</td>\n",
       "      <td>70.50</td>\n",
       "      <td>clear sky</td>\n",
       "      <td>33.9831</td>\n",
       "      <td>51.4364</td>\n",
       "      <td>Manouchehri Traditional House And Hotel</td>\n",
       "    </tr>\n",
       "    <tr>\n",
       "      <th>281</th>\n",
       "      <td>681</td>\n",
       "      <td>Ilam</td>\n",
       "      <td>NP</td>\n",
       "      <td>73.22</td>\n",
       "      <td>clear sky</td>\n",
       "      <td>26.9167</td>\n",
       "      <td>87.9167</td>\n",
       "      <td>चियाबारी कटेज</td>\n",
       "    </tr>\n",
       "  </tbody>\n",
       "</table>\n",
       "<p>282 rows × 8 columns</p>\n",
       "</div>"
      ],
      "text/plain": [
       "     hotel_data        City Country  Max Temp Weather Description      Lat  \\\n",
       "0             0        Duki      PK     78.78    scattered clouds  30.1541   \n",
       "1             4        Sola      VU     83.07       broken clouds -13.8833   \n",
       "2            13   Carnarvon      AU     74.32           clear sky -24.8667   \n",
       "3            14      Faanui      PF     77.38          light rain -16.4833   \n",
       "4            15        Atar      MR     83.10    scattered clouds  20.5169   \n",
       "..          ...         ...     ...       ...                 ...      ...   \n",
       "277         672      Parkes      AU     71.35          light rain -33.1333   \n",
       "278         675     Ondjiva      AO     80.60    scattered clouds -17.0667   \n",
       "279         676  Coahuayana      MX     75.65     overcast clouds  18.7333   \n",
       "280         677      Kashan      IR     70.50           clear sky  33.9831   \n",
       "281         681        Ilam      NP     73.22           clear sky  26.9167   \n",
       "\n",
       "          Lng                               Hotel Name  \n",
       "0     68.5728                         ماسٹر رشید مرحوم  \n",
       "1    167.5500                       Leumerus Bungalows  \n",
       "2    113.6333                    Hospitality Carnarvon  \n",
       "3   -151.7500       Bora-Bora Pearl Beach Resort & Spa  \n",
       "4    -13.0499                           Oumou Elghoura  \n",
       "..        ...                                      ...  \n",
       "277  148.1833                            Station Motel  \n",
       "278   15.7333                                 COMBUESA  \n",
       "279 -103.6833        El rranchito michuacan de ocampos  \n",
       "280   51.4364  Manouchehri Traditional House And Hotel  \n",
       "281   87.9167                            चियाबारी कटेज  \n",
       "\n",
       "[282 rows x 8 columns]"
      ]
     },
     "execution_count": 3,
     "metadata": {},
     "output_type": "execute_result"
    }
   ],
   "source": [
    "# Read the WeatherPy_vacation.csv into a DataFrame\n",
    "vacation_df = pd.read_csv(\"../Vacation_Search/WeatherPy_vacation.csv\")\n",
    "\n",
    "# Display sample data\n",
    "vacation_df"
   ]
  },
  {
   "cell_type": "markdown",
   "metadata": {},
   "source": [
    "**Note:** If the resulting DataFrame is empty, uncomment the following code to load sample data into the `clean_hotel_df`."
   ]
  },
  {
   "cell_type": "code",
   "execution_count": 4,
   "metadata": {},
   "outputs": [],
   "source": [
    "# In case of an empty DataFrame, load the sample data provided\n",
    "# clean_hotel_df = pd.read_csv(\"WeatherPy_vacation-backup.csv\")\n",
    "# clean_hotel_df.head(10)"
   ]
  },
  {
   "cell_type": "markdown",
   "metadata": {
    "tags": []
   },
   "source": [
    "## In this step, you will set-up the pop-up markers. Review the code to create a marker layer map of the vacation search results. This code is the same as in Deliverable 2."
   ]
  },
  {
   "cell_type": "code",
   "execution_count": 5,
   "metadata": {},
   "outputs": [],
   "source": [
    "# Review the formatting template\n",
    "info_box_template = \"\"\"\n",
    "<dl>\n",
    "<dt>Hotel Name</dt><dd>{Hotel Name}</dd>\n",
    "<dt>City</dt><dd>{City}</dd>\n",
    "<dt>Country</dt><dd>{Country}</dd>\n",
    "<dt>Current Weather</dt><dd>{Weather Description} and {Max Temp} °F</dd>\n",
    "</dl>\n",
    "\"\"\"\n",
    "\n",
    "# Get the data from each row and add it to the formatting template and store the data in a list\n",
    "hotel_info = [info_box_template.format(**row) for index, row in vacation_df.iterrows()]\n",
    "\n",
    "# Get the latitude and longitude from each row and store in a new DataFrame.\n",
    "locations = vacation_df[[\"Lat\", \"Lng\"]]"
   ]
  },
  {
   "cell_type": "code",
   "execution_count": 6,
   "metadata": {},
   "outputs": [
    {
     "data": {
      "application/vnd.jupyter.widget-view+json": {
       "model_id": "d7e2a529b1d240cebb908fcca8b638e8",
       "version_major": 2,
       "version_minor": 0
      },
      "text/plain": [
       "Figure(layout=FigureLayout(height='420px'))"
      ]
     },
     "metadata": {},
     "output_type": "display_data"
    }
   ],
   "source": [
    "# Add a marker layer for each city to the map.\n",
    "marker_layer = gmaps.marker_layer(locations, info_box_content=hotel_info)\n",
    "fig = gmaps.figure()\n",
    "fig.add_layer(marker_layer)\n",
    "\n",
    "# Display the figure\n",
    "fig"
   ]
  },
  {
   "cell_type": "markdown",
   "metadata": {},
   "source": [
    "## From the vacation search map, *choose four cities* that a customer might want to visit. They should be close together and in the same country."
   ]
  },
  {
   "cell_type": "code",
   "execution_count": 7,
   "metadata": {},
   "outputs": [],
   "source": [
    "# Create DataFrames for each city by filtering the 'vacation_df' using the loc method. \n",
    "# The starting and ending city should be the same city.\n",
    "vacation_start = vacation_df.loc[vacation_df[\"City\"] == \"Yenagoa\"] \n",
    "vacation_end = vacation_df.loc[vacation_df[\"City\"] == \"Yenagoa\"]\n",
    "vacation_stop1 = vacation_df.loc[vacation_df[\"City\"] == \"Bende\"]\n",
    "vacation_stop2 = vacation_df.loc[vacation_df[\"City\"] == \"Wukari\"]\n",
    "vacation_stop3 = vacation_df.loc[vacation_df[\"City\"] == \"Wamba\"]"
   ]
  },
  {
   "cell_type": "markdown",
   "metadata": {},
   "source": [
    "## Use the `to_numpy()` function and list indexing to write code to retrieve the latitude-longitude pairs as tuples from each city DataFrame."
   ]
  },
  {
   "cell_type": "code",
   "execution_count": 15,
   "metadata": {},
   "outputs": [],
   "source": [
    "# Get the latitude-longitude pairs as tuples from each city DataFrame using the to_numpy function and list indexing.\n",
    "start = vacation_start[[\"Lat\", \"Lng\"]].to_numpy()[0]\n",
    "end =  vacation_end[[\"Lat\", \"Lng\"]].to_numpy()[0]\n",
    "stop1 = vacation_stop1[[\"Lat\",\"Lng\"]].to_numpy()[0]\n",
    "stop2 = vacation_stop2[[\"Lat\", \"Lng\"]].to_numpy()[0]\n",
    "stop3 = vacation_stop3[[\"Lat\", \"Lng\"]].to_numpy()[0]"
   ]
  },
  {
   "cell_type": "markdown",
   "metadata": {},
   "source": [
    "## Use the [gmaps documentation](https://jupyter-gmaps.readthedocs.io/en/latest/tutorial.html#directions-layer) to create a directions layer map using the variables from the previous step. Where the starting and ending city are the same city, the `waypoints` are the three other cities, and the `travel_mode` is either `\"DRIVING\"`, `\"BICYCLING\"`, or `\"WALKING\"`."
   ]
  },
  {
   "cell_type": "code",
   "execution_count": 16,
   "metadata": {
    "tags": []
   },
   "outputs": [
    {
     "data": {
      "application/vnd.jupyter.widget-view+json": {
       "model_id": "e1175d4426734ace9e38710f47305c9b",
       "version_major": 2,
       "version_minor": 0
      },
      "text/plain": [
       "Figure(layout=FigureLayout(height='420px'))"
      ]
     },
     "metadata": {},
     "output_type": "display_data"
    }
   ],
   "source": [
    "# Define a new figure object\n",
    "fig = gmaps.figure()\n",
    "\n",
    "# Create a direction layer map using the start and end latitude-longitude pairs, and stop1, stop2, and stop3 as the waypoints.\n",
    "# The travel_mode should be \"DRIVING\", \"BICYCLING\", or \"WALKING\".\n",
    "vacation_itinerary = gmaps.directions_layer(start, end, waypoints = [stop1, stop2, stop3], travel_mode = \"DRIVING\" or \"BICYCLING\" or \"WALKING\") \n",
    "\n",
    "# Add the layer to the map\n",
    "fig.add_layer(vacation_itinerary)\n",
    "\n",
    "# Display the map\n",
    "fig"
   ]
  },
  {
   "cell_type": "markdown",
   "metadata": {},
   "source": [
    "## Use the provided `concat()` function code snippet to combine the four separate city DataFrames into one DataFrame."
   ]
  },
  {
   "cell_type": "code",
   "execution_count": 17,
   "metadata": {},
   "outputs": [
    {
     "data": {
      "text/html": [
       "<div>\n",
       "<style scoped>\n",
       "    .dataframe tbody tr th:only-of-type {\n",
       "        vertical-align: middle;\n",
       "    }\n",
       "\n",
       "    .dataframe tbody tr th {\n",
       "        vertical-align: top;\n",
       "    }\n",
       "\n",
       "    .dataframe thead th {\n",
       "        text-align: right;\n",
       "    }\n",
       "</style>\n",
       "<table border=\"1\" class=\"dataframe\">\n",
       "  <thead>\n",
       "    <tr style=\"text-align: right;\">\n",
       "      <th></th>\n",
       "      <th>hotel_data</th>\n",
       "      <th>City</th>\n",
       "      <th>Country</th>\n",
       "      <th>Max Temp</th>\n",
       "      <th>Weather Description</th>\n",
       "      <th>Lat</th>\n",
       "      <th>Lng</th>\n",
       "      <th>Hotel Name</th>\n",
       "    </tr>\n",
       "  </thead>\n",
       "  <tbody>\n",
       "    <tr>\n",
       "      <th>0</th>\n",
       "      <td>475</td>\n",
       "      <td>Yenagoa</td>\n",
       "      <td>NG</td>\n",
       "      <td>79.12</td>\n",
       "      <td>light rain</td>\n",
       "      <td>4.9247</td>\n",
       "      <td>6.2642</td>\n",
       "      <td>Aridolf Resort Wellness and Spa</td>\n",
       "    </tr>\n",
       "    <tr>\n",
       "      <th>1</th>\n",
       "      <td>558</td>\n",
       "      <td>Bende</td>\n",
       "      <td>NG</td>\n",
       "      <td>75.52</td>\n",
       "      <td>overcast clouds</td>\n",
       "      <td>5.5572</td>\n",
       "      <td>7.6368</td>\n",
       "      <td>Bende Local Government Corppers Lodge</td>\n",
       "    </tr>\n",
       "    <tr>\n",
       "      <th>2</th>\n",
       "      <td>32</td>\n",
       "      <td>Wukari</td>\n",
       "      <td>NG</td>\n",
       "      <td>75.49</td>\n",
       "      <td>light rain</td>\n",
       "      <td>7.8500</td>\n",
       "      <td>9.7833</td>\n",
       "      <td>Elimtop</td>\n",
       "    </tr>\n",
       "    <tr>\n",
       "      <th>3</th>\n",
       "      <td>244</td>\n",
       "      <td>Wamba</td>\n",
       "      <td>NG</td>\n",
       "      <td>70.92</td>\n",
       "      <td>overcast clouds</td>\n",
       "      <td>8.9333</td>\n",
       "      <td>8.6000</td>\n",
       "      <td>Roma Zee Guest House Annex</td>\n",
       "    </tr>\n",
       "  </tbody>\n",
       "</table>\n",
       "</div>"
      ],
      "text/plain": [
       "   hotel_data     City Country  Max Temp Weather Description     Lat     Lng  \\\n",
       "0         475  Yenagoa      NG     79.12          light rain  4.9247  6.2642   \n",
       "1         558    Bende      NG     75.52     overcast clouds  5.5572  7.6368   \n",
       "2          32   Wukari      NG     75.49          light rain  7.8500  9.7833   \n",
       "3         244    Wamba      NG     70.92     overcast clouds  8.9333  8.6000   \n",
       "\n",
       "                              Hotel Name  \n",
       "0        Aridolf Resort Wellness and Spa  \n",
       "1  Bende Local Government Corppers Lodge  \n",
       "2                                Elimtop  \n",
       "3             Roma Zee Guest House Annex  "
      ]
     },
     "execution_count": 17,
     "metadata": {},
     "output_type": "execute_result"
    }
   ],
   "source": [
    "#  Combine the four city DataFrames into one DataFrame using the concat() function.\n",
    "itinerary_df = pd.concat(\n",
    "    [\n",
    "        vacation_start,\n",
    "        vacation_stop1,\n",
    "        vacation_stop2,\n",
    "        vacation_stop3\n",
    "    ],\n",
    "    ignore_index = True\n",
    ")\n",
    "\n",
    "# Display sample data\n",
    "itinerary_df"
   ]
  },
  {
   "cell_type": "markdown",
   "metadata": {},
   "source": [
    "## Refactor the code from Step 6 to create a new marker layer map of the cities on the travel route."
   ]
  },
  {
   "cell_type": "code",
   "execution_count": 20,
   "metadata": {},
   "outputs": [],
   "source": [
    "# Review the formatting template\n",
    "info_box_template = \"\"\"\n",
    "<dl>\n",
    "<dt>Hotel Name</dt><dd>{Hotel Name}</dd>\n",
    "<dt>City</dt><dd>{City}</dd>\n",
    "<dt>Country</dt><dd>{Country}</dd>\n",
    "<dt>Current Weather</dt><dd>{Weather Description} and {Max Temp} °F</dd>\n",
    "</dl>\n",
    "\"\"\"\n",
    "\n",
    "# Get the data from each row and add it to the formatting template and store the data in a list\n",
    "hotel_info = [info_box_template.format(**row) for index, row in vacation_df.iterrows()]\n",
    "\n",
    "\n",
    "# Get the latitude and longitude from each row and store in a new DataFrame.\n",
    "locations = vacation_df[[\"Lat\", \"Lng\"]]"
   ]
  },
  {
   "cell_type": "code",
   "execution_count": 21,
   "metadata": {},
   "outputs": [
    {
     "data": {
      "application/vnd.jupyter.widget-view+json": {
       "model_id": "c635c859841e4ed7a312ac5525d717be",
       "version_major": 2,
       "version_minor": 0
      },
      "text/plain": [
       "Figure(layout=FigureLayout(height='420px'))"
      ]
     },
     "metadata": {},
     "output_type": "display_data"
    }
   ],
   "source": [
    "# Add a marker layer for each city to the map.\n",
    "marker_layer =  gmaps.marker_layer(locations, info_box_content=hotel_info)\n",
    "\n",
    "\n",
    "# Define a new figure object\n",
    "fig = gmaps.figure(center=(30.0, 31.0), zoom_level=1.5)\n",
    "\n",
    "# Add the layer to the map\n",
    "fig.add_layer(marker_layer)\n",
    "\n",
    "\n",
    "# Display the map\n",
    "fig"
   ]
  },
  {
   "cell_type": "code",
   "execution_count": null,
   "metadata": {},
   "outputs": [],
   "source": []
  }
 ],
 "metadata": {
  "kernelspec": {
   "display_name": "Python 3 (ipykernel)",
   "language": "python",
   "name": "python3"
  },
  "language_info": {
   "codemirror_mode": {
    "name": "ipython",
    "version": 3
   },
   "file_extension": ".py",
   "mimetype": "text/x-python",
   "name": "python",
   "nbconvert_exporter": "python",
   "pygments_lexer": "ipython3",
   "version": "3.7.13"
  },
  "latex_envs": {
   "LaTeX_envs_menu_present": true,
   "autoclose": false,
   "autocomplete": true,
   "bibliofile": "biblio.bib",
   "cite_by": "apalike",
   "current_citInitial": 1,
   "eqLabelWithNumbers": true,
   "eqNumInitial": 1,
   "hotkeys": {
    "equation": "Ctrl-E",
    "itemize": "Ctrl-I"
   },
   "labels_anchors": false,
   "latex_user_defs": false,
   "report_style_numbering": false,
   "user_envs_cfg": false
  }
 },
 "nbformat": 4,
 "nbformat_minor": 4
}
